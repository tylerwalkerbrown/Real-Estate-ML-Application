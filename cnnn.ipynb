{
 "cells": [
  {
   "cell_type": "code",
   "execution_count": 21,
   "metadata": {},
   "outputs": [
    {
     "ename": "ImportError",
     "evalue": "dlopen(/Users/tylerbrown/Library/Python/3.8/lib/python/site-packages/sklearn/__check_build/_check_build.cpython-38-darwin.so, 0x0002): tried: '/Users/tylerbrown/Library/Python/3.8/lib/python/site-packages/sklearn/__check_build/_check_build.cpython-38-darwin.so' (mach-o file, but is an incompatible architecture (have 'arm64', need 'x86_64'))\n___________________________________________________________________________\nContents of /Users/tylerbrown/Library/Python/3.8/lib/python/site-packages/sklearn/__check_build:\n__init__.py               __pycache__               _check_build.cpython-38-darwin.so\n___________________________________________________________________________\nIt seems that scikit-learn has not been built correctly.\n\nIf you have installed scikit-learn from source, please do not forget\nto build the package before using it: run `python setup.py install` or\n`make` in the source directory.\n\nIf you have used an installer, please check that it is suited for your\nPython version, your operating system and your platform.",
     "output_type": "error",
     "traceback": [
      "\u001b[0;31m---------------------------------------------------------------------------\u001b[0m",
      "\u001b[0;31mImportError\u001b[0m                               Traceback (most recent call last)",
      "File \u001b[0;32m~/Library/Python/3.8/lib/python/site-packages/sklearn/__check_build/__init__.py:48\u001b[0m\n\u001b[1;32m     47\u001b[0m \u001b[39mtry\u001b[39;00m:\n\u001b[0;32m---> 48\u001b[0m     \u001b[39mfrom\u001b[39;00m \u001b[39m.\u001b[39;00m\u001b[39m_check_build\u001b[39;00m \u001b[39mimport\u001b[39;00m check_build  \u001b[39m# noqa\u001b[39;00m\n\u001b[1;32m     49\u001b[0m \u001b[39mexcept\u001b[39;00m \u001b[39mImportError\u001b[39;00m \u001b[39mas\u001b[39;00m e:\n",
      "\u001b[0;31mImportError\u001b[0m: dlopen(/Users/tylerbrown/Library/Python/3.8/lib/python/site-packages/sklearn/__check_build/_check_build.cpython-38-darwin.so, 0x0002): tried: '/Users/tylerbrown/Library/Python/3.8/lib/python/site-packages/sklearn/__check_build/_check_build.cpython-38-darwin.so' (mach-o file, but is an incompatible architecture (have 'arm64', need 'x86_64'))",
      "\nDuring handling of the above exception, another exception occurred:\n",
      "\u001b[0;31mImportError\u001b[0m                               Traceback (most recent call last)",
      "Cell \u001b[0;32mIn[21], line 6\u001b[0m\n\u001b[1;32m      4\u001b[0m \u001b[39mimport\u001b[39;00m \u001b[39mpandas\u001b[39;00m \u001b[39mas\u001b[39;00m \u001b[39mpd\u001b[39;00m\n\u001b[1;32m      5\u001b[0m \u001b[39mimport\u001b[39;00m \u001b[39mnumpy\u001b[39;00m \u001b[39mas\u001b[39;00m \u001b[39mnp\u001b[39;00m\n\u001b[0;32m----> 6\u001b[0m \u001b[39mfrom\u001b[39;00m \u001b[39msklearn\u001b[39;00m\u001b[39m.\u001b[39;00m\u001b[39mpreprocessing\u001b[39;00m \u001b[39mimport\u001b[39;00m LabelEncoder, MinMaxScaler\n\u001b[1;32m      7\u001b[0m \u001b[39mfrom\u001b[39;00m \u001b[39msklearn\u001b[39;00m\u001b[39m.\u001b[39;00m\u001b[39mmodel_selection\u001b[39;00m \u001b[39mimport\u001b[39;00m train_test_split\n\u001b[1;32m      8\u001b[0m \u001b[39mfrom\u001b[39;00m \u001b[39mkeras\u001b[39;00m\u001b[39m.\u001b[39;00m\u001b[39mmodels\u001b[39;00m \u001b[39mimport\u001b[39;00m Sequential\n",
      "File \u001b[0;32m~/Library/Python/3.8/lib/python/site-packages/sklearn/__init__.py:81\u001b[0m\n\u001b[1;32m     70\u001b[0m     \u001b[39m# We are not importing the rest of scikit-learn during the build\u001b[39;00m\n\u001b[1;32m     71\u001b[0m     \u001b[39m# process, as it may not be compiled yet\u001b[39;00m\n\u001b[1;32m     72\u001b[0m \u001b[39melse\u001b[39;00m:\n\u001b[0;32m   (...)\u001b[0m\n\u001b[1;32m     78\u001b[0m     \u001b[39m# later is linked to the OpenMP runtime to make it possible to introspect\u001b[39;00m\n\u001b[1;32m     79\u001b[0m     \u001b[39m# it and importing it first would fail if the OpenMP dll cannot be found.\u001b[39;00m\n\u001b[1;32m     80\u001b[0m     \u001b[39mfrom\u001b[39;00m \u001b[39m.\u001b[39;00m \u001b[39mimport\u001b[39;00m _distributor_init  \u001b[39m# noqa: F401\u001b[39;00m\n\u001b[0;32m---> 81\u001b[0m     \u001b[39mfrom\u001b[39;00m \u001b[39m.\u001b[39;00m \u001b[39mimport\u001b[39;00m __check_build  \u001b[39m# noqa: F401\u001b[39;00m\n\u001b[1;32m     82\u001b[0m     \u001b[39mfrom\u001b[39;00m \u001b[39m.\u001b[39;00m\u001b[39mbase\u001b[39;00m \u001b[39mimport\u001b[39;00m clone\n\u001b[1;32m     83\u001b[0m     \u001b[39mfrom\u001b[39;00m \u001b[39m.\u001b[39;00m\u001b[39mutils\u001b[39;00m\u001b[39m.\u001b[39;00m\u001b[39m_show_versions\u001b[39;00m \u001b[39mimport\u001b[39;00m show_versions\n",
      "File \u001b[0;32m~/Library/Python/3.8/lib/python/site-packages/sklearn/__check_build/__init__.py:50\u001b[0m\n\u001b[1;32m     48\u001b[0m     \u001b[39mfrom\u001b[39;00m \u001b[39m.\u001b[39;00m\u001b[39m_check_build\u001b[39;00m \u001b[39mimport\u001b[39;00m check_build  \u001b[39m# noqa\u001b[39;00m\n\u001b[1;32m     49\u001b[0m \u001b[39mexcept\u001b[39;00m \u001b[39mImportError\u001b[39;00m \u001b[39mas\u001b[39;00m e:\n\u001b[0;32m---> 50\u001b[0m     raise_build_error(e)\n",
      "File \u001b[0;32m~/Library/Python/3.8/lib/python/site-packages/sklearn/__check_build/__init__.py:31\u001b[0m, in \u001b[0;36mraise_build_error\u001b[0;34m(e)\u001b[0m\n\u001b[1;32m     29\u001b[0m         \u001b[39melse\u001b[39;00m:\n\u001b[1;32m     30\u001b[0m             dir_content\u001b[39m.\u001b[39mappend(filename \u001b[39m+\u001b[39m \u001b[39m\"\u001b[39m\u001b[39m\\n\u001b[39;00m\u001b[39m\"\u001b[39m)\n\u001b[0;32m---> 31\u001b[0m     \u001b[39mraise\u001b[39;00m \u001b[39mImportError\u001b[39;00m(\n\u001b[1;32m     32\u001b[0m \u001b[39m        \u001b[39m\u001b[39m\"\"\"%s\u001b[39;00m\n\u001b[1;32m     33\u001b[0m \u001b[39m___________________________________________________________________________\u001b[39;00m\n\u001b[1;32m     34\u001b[0m \u001b[39mContents of %s:\u001b[39;00m\n\u001b[1;32m     35\u001b[0m \u001b[39m%s\u001b[39;00m\n\u001b[1;32m     36\u001b[0m \u001b[39m___________________________________________________________________________\u001b[39;00m\n\u001b[1;32m     37\u001b[0m \u001b[39mIt seems that scikit-learn has not been built correctly.\u001b[39;00m\n\u001b[1;32m     38\u001b[0m \n\u001b[1;32m     39\u001b[0m \u001b[39mIf you have installed scikit-learn from source, please do not forget\u001b[39;00m\n\u001b[1;32m     40\u001b[0m \u001b[39mto build the package before using it: run `python setup.py install` or\u001b[39;00m\n\u001b[1;32m     41\u001b[0m \u001b[39m`make` in the source directory.\u001b[39;00m\n\u001b[1;32m     42\u001b[0m \u001b[39m%s\"\"\"\u001b[39;00m\n\u001b[1;32m     43\u001b[0m         \u001b[39m%\u001b[39m (e, local_dir, \u001b[39m\"\u001b[39m\u001b[39m\"\u001b[39m\u001b[39m.\u001b[39mjoin(dir_content)\u001b[39m.\u001b[39mstrip(), msg)\n\u001b[1;32m     44\u001b[0m     )\n",
      "\u001b[0;31mImportError\u001b[0m: dlopen(/Users/tylerbrown/Library/Python/3.8/lib/python/site-packages/sklearn/__check_build/_check_build.cpython-38-darwin.so, 0x0002): tried: '/Users/tylerbrown/Library/Python/3.8/lib/python/site-packages/sklearn/__check_build/_check_build.cpython-38-darwin.so' (mach-o file, but is an incompatible architecture (have 'arm64', need 'x86_64'))\n___________________________________________________________________________\nContents of /Users/tylerbrown/Library/Python/3.8/lib/python/site-packages/sklearn/__check_build:\n__init__.py               __pycache__               _check_build.cpython-38-darwin.so\n___________________________________________________________________________\nIt seems that scikit-learn has not been built correctly.\n\nIf you have installed scikit-learn from source, please do not forget\nto build the package before using it: run `python setup.py install` or\n`make` in the source directory.\n\nIf you have used an installer, please check that it is suited for your\nPython version, your operating system and your platform."
     ]
    }
   ],
   "source": [
    "#source deeplearning/bin/activate\n",
    "\n",
    "# Import necessary libraries\n",
    "import pandas as pd\n",
    "import numpy as np\n",
    "from sklearn.preprocessing import LabelEncoder, MinMaxScaler\n",
    "from sklearn.model_selection import train_test_split\n",
    "from keras.models import Sequential\n",
    "\n",
    "#from keras.layers import D\n"
   ]
  },
  {
   "cell_type": "code",
   "execution_count": 4,
   "metadata": {},
   "outputs": [
    {
     "name": "stdout",
     "output_type": "stream",
     "text": [
      "Requirement already satisfied: scikit-learn in /Users/tylerbrown/Library/Python/3.8/lib/python/site-packages (1.2.2)\n",
      "Requirement already satisfied: scipy>=1.3.2 in /Users/tylerbrown/Library/Python/3.8/lib/python/site-packages (from scikit-learn) (1.10.1)\n",
      "Requirement already satisfied: numpy>=1.17.3 in /Library/Frameworks/Python.framework/Versions/3.8/lib/python3.8/site-packages (from scikit-learn) (1.23.5)\n",
      "Requirement already satisfied: joblib>=1.1.1 in /Users/tylerbrown/Library/Python/3.8/lib/python/site-packages (from scikit-learn) (1.2.0)\n",
      "Requirement already satisfied: threadpoolctl>=2.0.0 in /Users/tylerbrown/Library/Python/3.8/lib/python/site-packages (from scikit-learn) (3.1.0)\n",
      "\u001b[33mWARNING: You are using pip version 19.2.3, however version 23.0.1 is available.\n",
      "You should consider upgrading via the 'pip install --upgrade pip' command.\u001b[0m\n",
      "Note: you may need to restart the kernel to use updated packages.\n"
     ]
    }
   ],
   "source": [
    "import pandas as pd\n",
    "from sklearn.linear_model import LinearRegression\n",
    "\n",
    "# Set columns of dataframe to columns of result dataframe that have no missing values\n",
    "df[list(result.columns)] = result.dropna()\n",
    "\n",
    "# Iterate through unique cluster values in the dataframe\n",
    "for cluster in list(df.cluster.unique()):\n",
    "\n",
    "    # Create a subset of the dataframe with the current cluster value\n",
    "    data = df[df['cluster'] == cluster]\n",
    "    \n",
    "    # Check if the subset is empty\n",
    "    if data.empty:\n",
    "        continue\n",
    "    \n",
    "    # Define predictor and response variables\n",
    "    X = data[['livingArea']]\n",
    "    y = data['price']\n",
    "    \n",
    "    # Create a linear regression object        \n",
    "    model = LinearRegression()\n",
    "\n",
    "    # Fit the model to the data\n",
    "    model.fit(X, y)\n",
    "    \n",
    "    # Iterate through livingArea values and make predictions\n",
    "    for i, sqft in enumerate(data.livingArea):\n",
    "        try:\n",
    "            new_observation = [[sqft]]  # Create a new observation with the current livingArea value\n",
    "            predicted_price = abs(model.predict(new_observation))[0]  # Make a prediction on the new observation\n",
    "            print('predicted:', predicted_price)\n",
    "        except:\n",
    "            pass\n",
    "\n",
    "# Warning messages may be displayed due to not having valid feature names in the X variable\n"
   ]
  },
  {
   "cell_type": "code",
   "execution_count": null,
   "metadata": {},
   "outputs": [],
   "source": [
    "import pandas as pd\n",
    "from sklearn.linear_model import LinearRegression\n",
    "\n",
    "def cluster_regression(df):\n",
    "    # Set columns of dataframe to columns of result dataframe that have no missing values\n",
    "    df[list(result.columns)] = result.dropna()\n",
    "\n",
    "    # Create a dictionary to store the models for each cluster\n",
    "    cluster_models = {}\n",
    "\n",
    "    # Iterate through unique cluster values in the dataframe\n",
    "    for cluster in list(df.cluster.unique()):\n",
    "\n",
    "        # Create a subset of the dataframe with the current cluster value\n",
    "        data = df[df['cluster'] == cluster]\n",
    "\n",
    "        # Check if the subset is empty\n",
    "        if data.empty:\n",
    "            continue\n",
    "\n",
    "        # Define predictor and response variables\n",
    "        X = data[['livingArea']]\n",
    "        y = data['price']\n",
    "\n",
    "        # Create a linear regression object        \n",
    "        model = LinearRegression()\n",
    "\n",
    "        # Fit the model to the data\n",
    "        model.fit(X, y)\n",
    "        \n",
    "        # Add the model to the dictionary of cluster models\n",
    "        cluster_models[cluster] = model\n",
    "\n",
    "        # Iterate through livingArea values and make predictions\n",
    "        for i, sqft in enumerate(data.livingArea):\n",
    "            try:\n",
    "                new_observation = [[sqft]]  # Create a new observation with the current livingArea value\n",
    "                predicted_price = abs(model.predict(new_observation))[0]  # Make a prediction on the new observation\n",
    "                print('predicted:', predicted_price, 'residual:', y.iloc[i] - predicted_price)\n",
    "            except:\n",
    "                pass\n",
    "    \n",
    "    return cluster_models"
   ]
  },
  {
   "cell_type": "code",
   "execution_count": null,
   "metadata": {},
   "outputs": [],
   "source": []
  },
  {
   "cell_type": "code",
   "execution_count": null,
   "metadata": {},
   "outputs": [],
   "source": [
    "import pandas as pd\n",
    "from sklearn.ensemble import RandomForestRegressor\n",
    "from sklearn.model_selection import train_test_split\n",
    "\n",
    "# Load the dataset\n",
    "def randomforest(df, bd, br, clust):\n",
    "    # Select the columns you want to include in your decision tree\n",
    "    features = ['bathrooms', 'bedrooms', 'cluster']\n",
    "    target = 'price'\n",
    "    decision_tree = df[features + [target]]\n",
    "\n",
    "    # Split data into training and testing sets\n",
    "    X_train, X_test, y_train, y_test = train_test_split(decision_tree[features], \n",
    "                                                        decision_tree[target], \n",
    "                                                        test_size=0.2, \n",
    "                                                        random_state=42)\n",
    "\n",
    "    # drop missing values from the training set\n",
    "    X_train.dropna(inplace=True)\n",
    "    y_train = y_train.loc[X_train.index]\n",
    "\n",
    "    # drop missing values from the testing set\n",
    "    X_test.dropna(inplace=True)\n",
    "    y_test = y_test.loc[X_test.index]\n",
    "\n",
    "    # Create a random forest regression model\n",
    "    rf_model = RandomForestRegressor(n_estimators=100, random_state=42)\n",
    "\n",
    "    # Fit the model on the training data\n",
    "    rf_model.fit(X_train, y_train)\n",
    "\n",
    "    # Custom input values\n",
    "    bath = br\n",
    "    bed = bd\n",
    "    cluster = clust\n",
    "    # Create a dictionary of custom input values\n",
    "    input_dict = {'bathrooms': bed, \n",
    "                'bedrooms': bath, \n",
    "                'cluster': [cluster]\n",
    "                 } # You need to specify a cluster value here\n",
    "\n",
    "    # Convert the dictionary to a pandas DataFrame\n",
    "    X_custom = pd.DataFrame.from_dict(input_dict)\n",
    "\n",
    "    # Make a prediction on the custom input values\n",
    "    y_pred_custom = rf_model.predict(X_custom)\n",
    "\n",
    "    # Print the predicted price\n",
    "    print(f\"The predicted price for a with {bath} bathrooms and {bed} bedrooms is ${y_pred_custom[0]:,.2f}\")"
   ]
  },
  {
   "cell_type": "code",
   "execution_count": null,
   "metadata": {},
   "outputs": [],
   "source": [
    "for i in range(0, len(df)):\n",
    "    try:\n",
    "        randomforest(df,df['bathrooms'][i] , df['bedrooms'][i], df['cluster'][i])\n",
    "    except:\n",
    "        pass"
   ]
  },
  {
   "cell_type": "code",
   "execution_count": null,
   "metadata": {},
   "outputs": [],
   "source": []
  }
 ],
 "metadata": {
  "kernelspec": {
   "display_name": "Python 3 (ipykernel)",
   "language": "python",
   "name": "python3"
  },
  "language_info": {
   "codemirror_mode": {
    "name": "ipython",
    "version": 3
   },
   "file_extension": ".py",
   "mimetype": "text/x-python",
   "name": "python",
   "nbconvert_exporter": "python",
   "pygments_lexer": "ipython3",
   "version": "3.9.12"
  },
  "vscode": {
   "interpreter": {
    "hash": "aee8b7b246df8f9039afb4144a1f6fd8d2ca17a180786b69acc140d282b71a49"
   }
  }
 },
 "nbformat": 4,
 "nbformat_minor": 4
}
